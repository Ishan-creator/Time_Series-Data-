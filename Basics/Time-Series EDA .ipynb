{
 "cells": [
  {
   "cell_type": "code",
   "execution_count": 204,
   "id": "8eb6ef47",
   "metadata": {},
   "outputs": [],
   "source": [
    "# !pip install pandas-datareader"
   ]
  },
  {
   "cell_type": "code",
   "execution_count": 175,
   "id": "35ed775f",
   "metadata": {},
   "outputs": [],
   "source": [
    "import pandas_datareader as pdr\n",
    "import numpy as np \n"
   ]
  },
  {
   "cell_type": "code",
   "execution_count": 176,
   "id": "1017f9cf",
   "metadata": {},
   "outputs": [],
   "source": [
    "# !pip install yfinance"
   ]
  },
  {
   "cell_type": "code",
   "execution_count": 177,
   "id": "083561f7",
   "metadata": {},
   "outputs": [],
   "source": [
    "import yfinance as yf"
   ]
  },
  {
   "cell_type": "code",
   "execution_count": 178,
   "id": "fd1dea65",
   "metadata": {},
   "outputs": [],
   "source": [
    "# import yfinance as yf\n",
    "\n",
    "# # Set the start and end dates for the data\n",
    "# start_date = '2019-01-01'\n",
    "# end_date = '2024-01-04'\n",
    "df = yf.download('TSLA', start=start_date, end=end_date)\n"
   ]
  },
  {
   "cell_type": "code",
   "execution_count": 179,
   "id": "af0842eb",
   "metadata": {},
   "outputs": [],
   "source": [
    "df"
   ]
  },
  {
   "cell_type": "code",
   "execution_count": 180,
   "id": "8971aff7",
   "metadata": {
    "scrolled": true
   },
   "outputs": [],
   "source": [
    "df.plot(figsize=(12,4))"
   ]
  },
  {
   "cell_type": "code",
   "execution_count": 181,
   "id": "7b2c2421",
   "metadata": {},
   "outputs": [],
   "source": [
    "df['High'].plot(figsize=(12,4))"
   ]
  },
  {
   "cell_type": "code",
   "execution_count": 182,
   "id": "5c8e4252",
   "metadata": {},
   "outputs": [],
   "source": [
    "df['High'].plot(xlim=['2020-01-01','2022-09-01'],ylim=[0,450],figsize=(12,4))"
   ]
  },
  {
   "cell_type": "code",
   "execution_count": 183,
   "id": "d9b8f727",
   "metadata": {},
   "outputs": [],
   "source": [
    " df.head()"
   ]
  },
  {
   "cell_type": "code",
   "execution_count": 184,
   "id": "43ba5e74",
   "metadata": {},
   "outputs": [],
   "source": [
    " df.info()"
   ]
  },
  {
   "cell_type": "code",
   "execution_count": 185,
   "id": "b2dccdde",
   "metadata": {},
   "outputs": [],
   "source": [
    " df.index"
   ]
  },
  {
   "cell_type": "code",
   "execution_count": 186,
   "id": "d1ee003d",
   "metadata": {},
   "outputs": [],
   "source": [
    "start_date = '2020-01-02'\n",
    "end_date = '2022-09-01'\n",
    "\n",
    "index = df.loc[start_date:end_date].index\n"
   ]
  },
  {
   "cell_type": "code",
   "execution_count": 187,
   "id": "a8127d03",
   "metadata": {},
   "outputs": [],
   "source": [
    "index"
   ]
  },
  {
   "cell_type": "code",
   "execution_count": 188,
   "id": "ff6c15ce",
   "metadata": {},
   "outputs": [],
   "source": [
    "s_open=df.loc['2020-01-01':'2022-09-01']['Open']"
   ]
  },
  {
   "cell_type": "code",
   "execution_count": 189,
   "id": "4f5b3a26",
   "metadata": {},
   "outputs": [],
   "source": [
    "s_open.head()"
   ]
  },
  {
   "cell_type": "code",
   "execution_count": 190,
   "id": "cfde226f",
   "metadata": {},
   "outputs": [],
   "source": [
    "import matplotlib.pyplot as plt\n",
    "%matplotlib inline"
   ]
  },
  {
   "cell_type": "code",
   "execution_count": 191,
   "id": "66ed5c76",
   "metadata": {},
   "outputs": [],
   "source": [
    "figure , ax = plt.subplots()\n",
    "plt.tight_layout()\n",
    "ax.plot(index , s_open)"
   ]
  },
  {
   "cell_type": "code",
   "execution_count": null,
   "id": "5e530419",
   "metadata": {},
   "outputs": [],
   "source": []
  },
  {
   "cell_type": "code",
   "execution_count": 192,
   "id": "f5798705",
   "metadata": {},
   "outputs": [],
   "source": [
    " df.head()"
   ]
  },
  {
   "cell_type": "code",
   "execution_count": 193,
   "id": "cb24d4b3",
   "metadata": {},
   "outputs": [],
   "source": [
    " df.resample(rule = 'A').min()"
   ]
  },
  {
   "cell_type": "code",
   "execution_count": 194,
   "id": "654c8222",
   "metadata": {},
   "outputs": [],
   "source": [
    "df.resample(rule = 'A').max()"
   ]
  },
  {
   "cell_type": "code",
   "execution_count": 195,
   "id": "57b933aa",
   "metadata": {},
   "outputs": [],
   "source": [
    " df.resample(rule = 'A').max()['Open'].plot()"
   ]
  },
  {
   "cell_type": "code",
   "execution_count": 196,
   "id": "fa2023bf",
   "metadata": {},
   "outputs": [],
   "source": [
    " df.resample(rule = 'QS').max()['Open'].plot()"
   ]
  },
  {
   "cell_type": "code",
   "execution_count": 197,
   "id": "37113bcf",
   "metadata": {},
   "outputs": [],
   "source": [
    " df.resample(rule = 'BA').max()"
   ]
  },
  {
   "cell_type": "code",
   "execution_count": 198,
   "id": "1cf69603",
   "metadata": {},
   "outputs": [],
   "source": [
    "df.resample(rule = 'A').mean()['Open'].plot(kind = 'bar')"
   ]
  },
  {
   "cell_type": "code",
   "execution_count": 199,
   "id": "d0d59f79",
   "metadata": {},
   "outputs": [],
   "source": [
    "df.resample(rule = 'M').mean()['Open'].plot(kind = 'bar' , figsize = (15,6))"
   ]
  },
  {
   "cell_type": "code",
   "execution_count": 200,
   "id": "ad4780f8",
   "metadata": {},
   "outputs": [],
   "source": [
    "df['High'].rolling(11).max().head(20)"
   ]
  },
  {
   "cell_type": "code",
   "execution_count": 201,
   "id": "1018a6ca",
   "metadata": {},
   "outputs": [],
   "source": [
    "df['Rolled_open'] = df['Open'].rolling(20).mean()"
   ]
  },
  {
   "cell_type": "code",
   "execution_count": 202,
   "id": "a344074b",
   "metadata": {},
   "outputs": [],
   "source": [
    "df.head(21)"
   ]
  },
  {
   "cell_type": "code",
   "execution_count": 203,
   "id": "c2fabc69",
   "metadata": {},
   "outputs": [],
   "source": [
    "df[['Open','Rolled_open']].plot(figsize= (15,6))"
   ]
  },
  {
   "cell_type": "code",
   "execution_count": null,
   "id": "8d908389",
   "metadata": {},
   "outputs": [],
   "source": []
  },
  {
   "cell_type": "code",
   "execution_count": null,
   "id": "ced7f292",
   "metadata": {},
   "outputs": [],
   "source": []
  },
  {
   "cell_type": "code",
   "execution_count": null,
   "id": "2503c736",
   "metadata": {},
   "outputs": [],
   "source": []
  },
  {
   "cell_type": "code",
   "execution_count": null,
   "id": "90b1f1a3",
   "metadata": {},
   "outputs": [],
   "source": []
  },
  {
   "cell_type": "code",
   "execution_count": null,
   "id": "70392715",
   "metadata": {},
   "outputs": [],
   "source": []
  },
  {
   "cell_type": "code",
   "execution_count": null,
   "id": "337e65f5",
   "metadata": {},
   "outputs": [],
   "source": []
  },
  {
   "cell_type": "code",
   "execution_count": null,
   "id": "51b1731d",
   "metadata": {},
   "outputs": [],
   "source": []
  },
  {
   "cell_type": "code",
   "execution_count": null,
   "id": "5848d2a8",
   "metadata": {},
   "outputs": [],
   "source": []
  },
  {
   "cell_type": "code",
   "execution_count": null,
   "id": "0f042cf3",
   "metadata": {},
   "outputs": [],
   "source": []
  },
  {
   "cell_type": "code",
   "execution_count": null,
   "id": "1a71fb88",
   "metadata": {},
   "outputs": [],
   "source": []
  },
  {
   "cell_type": "code",
   "execution_count": null,
   "id": "5ffeb4d3",
   "metadata": {},
   "outputs": [],
   "source": []
  },
  {
   "cell_type": "code",
   "execution_count": null,
   "id": "73a9b3b7",
   "metadata": {},
   "outputs": [],
   "source": []
  },
  {
   "cell_type": "code",
   "execution_count": null,
   "id": "2b78b779",
   "metadata": {},
   "outputs": [],
   "source": []
  },
  {
   "cell_type": "code",
   "execution_count": null,
   "id": "fb607943",
   "metadata": {},
   "outputs": [],
   "source": []
  },
  {
   "cell_type": "code",
   "execution_count": null,
   "id": "a5a336a0",
   "metadata": {},
   "outputs": [],
   "source": []
  }
 ],
 "metadata": {
  "kernelspec": {
   "display_name": "Python 3 (ipykernel)",
   "language": "python",
   "name": "python3"
  },
  "language_info": {
   "codemirror_mode": {
    "name": "ipython",
    "version": 3
   },
   "file_extension": ".py",
   "mimetype": "text/x-python",
   "name": "python",
   "nbconvert_exporter": "python",
   "pygments_lexer": "ipython3",
   "version": "3.9.7"
  }
 },
 "nbformat": 4,
 "nbformat_minor": 5
}
